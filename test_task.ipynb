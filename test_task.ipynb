{
 "cells": [
  {
   "cell_type": "markdown",
   "id": "536c668b-65d0-4811-a5d3-64f4f5c9ad0f",
   "metadata": {},
   "source": [
    "# IHT20H DS Test Task"
   ]
  },
  {
   "cell_type": "markdown",
   "id": "081c1a2d-43f1-4c6a-9e71-f32d47f57fce",
   "metadata": {
    "tags": []
   },
   "source": [
    "## Preprocessing"
   ]
  },
  {
   "cell_type": "markdown",
   "id": "c5d6e584-3e31-490a-b302-fe1e46bf0513",
   "metadata": {},
   "source": [
    "## Classification"
   ]
  },
  {
   "cell_type": "markdown",
   "id": "4fba7815-2827-473b-8344-8713b0bc978d",
   "metadata": {},
   "source": [
    "## Features importance"
   ]
  }
 ],
 "metadata": {
  "kernelspec": {
   "display_name": "Python 3",
   "language": "python",
   "name": "python3"
  },
  "language_info": {
   "codemirror_mode": {
    "name": "ipython",
    "version": 3
   },
   "file_extension": ".py",
   "mimetype": "text/x-python",
   "name": "python",
   "nbconvert_exporter": "python",
   "pygments_lexer": "ipython3",
   "version": "3.10.9"
  }
 },
 "nbformat": 4,
 "nbformat_minor": 5
}
